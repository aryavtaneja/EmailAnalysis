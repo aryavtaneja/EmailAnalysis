{
 "cells": [
  {
   "cell_type": "code",
   "execution_count": 2,
   "metadata": {},
   "outputs": [],
   "source": [
    "import pandas as pd\n",
    "import numpy as np\n",
    "import tensorflow as tf\n",
    "from tensorflow import keras\n",
    "from tensorflow.keras import layers\n",
    "from tensorflow.keras.layers import Normalization, TextVectorization\n",
    "from tensorflow.keras.layers.experimental.preprocessing import \\\n",
    "    TextVectorization\n",
    "\n",
    "model = keras.models.load_model('model')"
   ]
  },
  {
   "cell_type": "code",
   "execution_count": 24,
   "metadata": {},
   "outputs": [
    {
     "ename": "InvalidArgumentError",
     "evalue": "{{function_node __wrapped__ConcatV2_N_2_device_/job:localhost/replica:0/task:0/device:CPU:0}} ConcatOp : Ranks of all input tensors should match: shape[0] = [4000,1] vs. shape[1] = [20] [Op:ConcatV2] name: concat",
     "output_type": "error",
     "traceback": [
      "\u001b[1;31m---------------------------------------------------------------------------\u001b[0m",
      "\u001b[1;31mInvalidArgumentError\u001b[0m                      Traceback (most recent call last)",
      "Cell \u001b[1;32mIn[24], line 29\u001b[0m\n\u001b[0;32m     26\u001b[0m normalized_numerical_data \u001b[39m=\u001b[39m tf\u001b[39m.\u001b[39mcast(normalizer(numerical_data), tf\u001b[39m.\u001b[39mfloat32)\n\u001b[0;32m     28\u001b[0m \u001b[39m# Concatenate the textual and numerical data along the second axis\u001b[39;00m\n\u001b[1;32m---> 29\u001b[0m input_data \u001b[39m=\u001b[39m tf\u001b[39m.\u001b[39;49mconcat([textual_data_1d[:, tf\u001b[39m.\u001b[39;49mnewaxis], normalized_numerical_data], axis\u001b[39m=\u001b[39;49m\u001b[39m1\u001b[39;49m)\n\u001b[0;32m     31\u001b[0m \u001b[39m# Get predicted probabilities for each entry in the test dataset\u001b[39;00m\n\u001b[0;32m     32\u001b[0m pred_probs \u001b[39m=\u001b[39m model\u001b[39m.\u001b[39mpredict(input_data)\n",
      "File \u001b[1;32mc:\\Users\\aryav\\AppData\\Local\\Programs\\Python\\Python311\\Lib\\site-packages\\tensorflow\\python\\util\\traceback_utils.py:153\u001b[0m, in \u001b[0;36mfilter_traceback.<locals>.error_handler\u001b[1;34m(*args, **kwargs)\u001b[0m\n\u001b[0;32m    151\u001b[0m \u001b[39mexcept\u001b[39;00m \u001b[39mException\u001b[39;00m \u001b[39mas\u001b[39;00m e:\n\u001b[0;32m    152\u001b[0m   filtered_tb \u001b[39m=\u001b[39m _process_traceback_frames(e\u001b[39m.\u001b[39m__traceback__)\n\u001b[1;32m--> 153\u001b[0m   \u001b[39mraise\u001b[39;00m e\u001b[39m.\u001b[39mwith_traceback(filtered_tb) \u001b[39mfrom\u001b[39;00m \u001b[39mNone\u001b[39;00m\n\u001b[0;32m    154\u001b[0m \u001b[39mfinally\u001b[39;00m:\n\u001b[0;32m    155\u001b[0m   \u001b[39mdel\u001b[39;00m filtered_tb\n",
      "File \u001b[1;32mc:\\Users\\aryav\\AppData\\Local\\Programs\\Python\\Python311\\Lib\\site-packages\\tensorflow\\python\\framework\\ops.py:7262\u001b[0m, in \u001b[0;36mraise_from_not_ok_status\u001b[1;34m(e, name)\u001b[0m\n\u001b[0;32m   7260\u001b[0m \u001b[39mdef\u001b[39;00m \u001b[39mraise_from_not_ok_status\u001b[39m(e, name):\n\u001b[0;32m   7261\u001b[0m   e\u001b[39m.\u001b[39mmessage \u001b[39m+\u001b[39m\u001b[39m=\u001b[39m (\u001b[39m\"\u001b[39m\u001b[39m name: \u001b[39m\u001b[39m\"\u001b[39m \u001b[39m+\u001b[39m name \u001b[39mif\u001b[39;00m name \u001b[39mis\u001b[39;00m \u001b[39mnot\u001b[39;00m \u001b[39mNone\u001b[39;00m \u001b[39melse\u001b[39;00m \u001b[39m\"\u001b[39m\u001b[39m\"\u001b[39m)\n\u001b[1;32m-> 7262\u001b[0m   \u001b[39mraise\u001b[39;00m core\u001b[39m.\u001b[39m_status_to_exception(e) \u001b[39mfrom\u001b[39;00m \u001b[39mNone\u001b[39;00m\n",
      "\u001b[1;31mInvalidArgumentError\u001b[0m: {{function_node __wrapped__ConcatV2_N_2_device_/job:localhost/replica:0/task:0/device:CPU:0}} ConcatOp : Ranks of all input tensors should match: shape[0] = [4000,1] vs. shape[1] = [20] [Op:ConcatV2] name: concat"
     ]
    }
   ],
   "source": [
    "# Load the trained model\n",
    "model = keras.models.load_model('model')\n",
    "\n",
    "# Load the test dataframe\n",
    "df_test = pd.read_parquet('val.parquet')\n",
    "\n",
    "# Get the textual and numerical data from the test dataframe\n",
    "textual_data = df_test['Textual'].to_numpy()\n",
    "numerical_data = df_test['Numerical'].to_numpy()\n",
    "\n",
    "vectorizer = TextVectorization(max_tokens=20000, output_sequence_length=200, output_mode='int')\n",
    "\n",
    "# Fit the vectorizer on the textual data\n",
    "vectorizer.adapt(textual_data)\n",
    "\n",
    "normalizer = Normalization(axis=None)\n",
    "\n",
    "# Vectorize the textual data using the same vectorizer used during training\n",
    "vectorized_textual_data = vectorizer(textual_data)\n",
    "\n",
    "# Reshape the textual data to a 1D tensor of strings and cast it to float32\n",
    "textual_data_1d = tf.cast(tf.reshape(vectorized_textual_data, (-1,)), tf.float32)\n",
    "textual_data_1d = tf.reshape(textual_data_1d, (-1,))\n",
    "\n",
    "# Normalize the numerical data using the same normalizer used during training and cast it to float32\n",
    "normalized_numerical_data = tf.cast(normalizer(numerical_data), tf.float32)\n",
    "\n",
    "# Concatenate the textual and numerical data along the second axis\n",
    "input_data = tf.concat([textual_data_1d[:, tf.newaxis], normalized_numerical_data], axis=1)\n",
    "\n",
    "# Get predicted probabilities for each entry in the test dataset\n",
    "pred_probs = model.predict(input_data)\n"
   ]
  }
 ],
 "metadata": {
  "kernelspec": {
   "display_name": "Python 3",
   "language": "python",
   "name": "python3"
  },
  "language_info": {
   "codemirror_mode": {
    "name": "ipython",
    "version": 3
   },
   "file_extension": ".py",
   "mimetype": "text/x-python",
   "name": "python",
   "nbconvert_exporter": "python",
   "pygments_lexer": "ipython3",
   "version": "3.11.3"
  },
  "orig_nbformat": 4
 },
 "nbformat": 4,
 "nbformat_minor": 2
}
