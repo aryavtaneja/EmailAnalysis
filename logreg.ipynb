{
 "cells": [
  {
   "cell_type": "code",
   "execution_count": 16,
   "metadata": {},
   "outputs": [],
   "source": [
    "import numpy as np\n",
    "import pandas as pd\n",
    "\n",
    "from sklearn.linear_model import LogisticRegression\n",
    "from sklearn.ensemble import RandomForestClassifier\n",
    "from sklearn.neighbors import KNeighborsClassifier\n",
    "from sklearn.metrics import accuracy_score, f1_score, precision_score, recall_score\n",
    "from sklearn.model_selection import train_test_split"
   ]
  },
  {
   "cell_type": "code",
   "execution_count": 8,
   "metadata": {},
   "outputs": [],
   "source": [
    "df = pd.read_parquet('data.parquet')"
   ]
  },
  {
   "cell_type": "code",
   "execution_count": 9,
   "metadata": {},
   "outputs": [
    {
     "data": {
      "text/html": [
       "<div>\n",
       "<style scoped>\n",
       "    .dataframe tbody tr th:only-of-type {\n",
       "        vertical-align: middle;\n",
       "    }\n",
       "\n",
       "    .dataframe tbody tr th {\n",
       "        vertical-align: top;\n",
       "    }\n",
       "\n",
       "    .dataframe thead th {\n",
       "        text-align: right;\n",
       "    }\n",
       "</style>\n",
       "<table border=\"1\" class=\"dataframe\">\n",
       "  <thead>\n",
       "    <tr style=\"text-align: right;\">\n",
       "      <th></th>\n",
       "      <th>Subject</th>\n",
       "      <th>Sender</th>\n",
       "      <th>Date</th>\n",
       "      <th>Body</th>\n",
       "      <th>RepliedTo</th>\n",
       "      <th>embedding</th>\n",
       "    </tr>\n",
       "  </thead>\n",
       "  <tbody>\n",
       "    <tr>\n",
       "      <th>0</th>\n",
       "      <td>VINEET, Remember To Purchase Your Getaway Star...</td>\n",
       "      <td>Hilton Grand Vacations &lt;hgv@travel2.hiltongran...</td>\n",
       "      <td>1.683869e+09</td>\n",
       "      <td>Your 3-Night Vacation Can Get You $100 Towards...</td>\n",
       "      <td>0</td>\n",
       "      <td>[-0.008335459977388382, -0.007523390464484692,...</td>\n",
       "    </tr>\n",
       "    <tr>\n",
       "      <th>1</th>\n",
       "      <td>Spring Recital next Saturday May 20th at 5:00</td>\n",
       "      <td>Andrew Bushnell &lt;fiddlersroof@outlook.com&gt;</td>\n",
       "      <td>1.683868e+09</td>\n",
       "      <td></td>\n",
       "      <td>0</td>\n",
       "      <td>[-0.03298372030258179, 0.0026079996023327112, ...</td>\n",
       "    </tr>\n",
       "    <tr>\n",
       "      <th>2</th>\n",
       "      <td>[Class of 2028] Save the date - 7th Grade End ...</td>\n",
       "      <td>Tushar Gupta &lt;m@mail1.veracross.com&gt;</td>\n",
       "      <td>1.683867e+09</td>\n",
       "      <td>Hello class of 2028 families, \\r\\nWe are plann...</td>\n",
       "      <td>0</td>\n",
       "      <td>[-0.008779299445450306, -0.004117605742067099,...</td>\n",
       "    </tr>\n",
       "    <tr>\n",
       "      <th>3</th>\n",
       "      <td>[Mantri Celestia] Special Notice: Power Shutdo...</td>\n",
       "      <td>Mantri Celestia helpdesk &lt;donotreply@apnacompl...</td>\n",
       "      <td>1.683866e+09</td>\n",
       "      <td></td>\n",
       "      <td>0</td>\n",
       "      <td>[-0.00916092749685049, -0.021061832085251808, ...</td>\n",
       "    </tr>\n",
       "    <tr>\n",
       "      <th>4</th>\n",
       "      <td>We're Giving You Up to 40% Off Sale Styles</td>\n",
       "      <td>Banana Republic &lt;bananarepublic@email.bananare...</td>\n",
       "      <td>1.683864e+09</td>\n",
       "      <td>\\r\\n\\r\\nWe're Giving You Up to 40% Off Sale St...</td>\n",
       "      <td>0</td>\n",
       "      <td>[-0.046990904957056046, -0.01633710041642189, ...</td>\n",
       "    </tr>\n",
       "  </tbody>\n",
       "</table>\n",
       "</div>"
      ],
      "text/plain": [
       "                                             Subject   \n",
       "0  VINEET, Remember To Purchase Your Getaway Star...  \\\n",
       "1      Spring Recital next Saturday May 20th at 5:00   \n",
       "2  [Class of 2028] Save the date - 7th Grade End ...   \n",
       "3  [Mantri Celestia] Special Notice: Power Shutdo...   \n",
       "4         We're Giving You Up to 40% Off Sale Styles   \n",
       "\n",
       "                                              Sender          Date   \n",
       "0  Hilton Grand Vacations <hgv@travel2.hiltongran...  1.683869e+09  \\\n",
       "1         Andrew Bushnell <fiddlersroof@outlook.com>  1.683868e+09   \n",
       "2               Tushar Gupta <m@mail1.veracross.com>  1.683867e+09   \n",
       "3  Mantri Celestia helpdesk <donotreply@apnacompl...  1.683866e+09   \n",
       "4  Banana Republic <bananarepublic@email.bananare...  1.683864e+09   \n",
       "\n",
       "                                                Body  RepliedTo   \n",
       "0  Your 3-Night Vacation Can Get You $100 Towards...          0  \\\n",
       "1                                                             0   \n",
       "2  Hello class of 2028 families, \\r\\nWe are plann...          0   \n",
       "3                                                             0   \n",
       "4  \\r\\n\\r\\nWe're Giving You Up to 40% Off Sale St...          0   \n",
       "\n",
       "                                           embedding  \n",
       "0  [-0.008335459977388382, -0.007523390464484692,...  \n",
       "1  [-0.03298372030258179, 0.0026079996023327112, ...  \n",
       "2  [-0.008779299445450306, -0.004117605742067099,...  \n",
       "3  [-0.00916092749685049, -0.021061832085251808, ...  \n",
       "4  [-0.046990904957056046, -0.01633710041642189, ...  "
      ]
     },
     "execution_count": 9,
     "metadata": {},
     "output_type": "execute_result"
    }
   ],
   "source": [
    "df.head()"
   ]
  },
  {
   "cell_type": "code",
   "execution_count": 5,
   "metadata": {},
   "outputs": [
    {
     "data": {
      "text/html": [
       "<div>\n",
       "<style scoped>\n",
       "    .dataframe tbody tr th:only-of-type {\n",
       "        vertical-align: middle;\n",
       "    }\n",
       "\n",
       "    .dataframe tbody tr th {\n",
       "        vertical-align: top;\n",
       "    }\n",
       "\n",
       "    .dataframe thead th {\n",
       "        text-align: right;\n",
       "    }\n",
       "</style>\n",
       "<table border=\"1\" class=\"dataframe\">\n",
       "  <thead>\n",
       "    <tr style=\"text-align: right;\">\n",
       "      <th></th>\n",
       "      <th>Subject</th>\n",
       "      <th>Sender</th>\n",
       "      <th>Date</th>\n",
       "      <th>Body</th>\n",
       "      <th>Replied To</th>\n",
       "      <th>embedding</th>\n",
       "    </tr>\n",
       "  </thead>\n",
       "  <tbody>\n",
       "    <tr>\n",
       "      <th>0</th>\n",
       "      <td>VINEET, Remember To Purchase Your Getaway Star...</td>\n",
       "      <td>Hilton Grand Vacations &lt;hgv@travel2.hiltongran...</td>\n",
       "      <td>1.683869e+09</td>\n",
       "      <td>Your 3-Night Vacation Can Get You $100 Towards...</td>\n",
       "      <td>0</td>\n",
       "      <td>[-0.008335459977388382, -0.007523390464484692,...</td>\n",
       "    </tr>\n",
       "    <tr>\n",
       "      <th>1</th>\n",
       "      <td>Spring Recital next Saturday May 20th at 5:00</td>\n",
       "      <td>Andrew Bushnell &lt;fiddlersroof@outlook.com&gt;</td>\n",
       "      <td>1.683868e+09</td>\n",
       "      <td></td>\n",
       "      <td>0</td>\n",
       "      <td>[-0.03298372030258179, 0.0026079996023327112, ...</td>\n",
       "    </tr>\n",
       "    <tr>\n",
       "      <th>2</th>\n",
       "      <td>[Class of 2028] Save the date - 7th Grade End ...</td>\n",
       "      <td>Tushar Gupta &lt;m@mail1.veracross.com&gt;</td>\n",
       "      <td>1.683867e+09</td>\n",
       "      <td>Hello class of 2028 families, \\r\\nWe are plann...</td>\n",
       "      <td>0</td>\n",
       "      <td>[-0.008779299445450306, -0.004117605742067099,...</td>\n",
       "    </tr>\n",
       "    <tr>\n",
       "      <th>3</th>\n",
       "      <td>[Mantri Celestia] Special Notice: Power Shutdo...</td>\n",
       "      <td>Mantri Celestia helpdesk &lt;donotreply@apnacompl...</td>\n",
       "      <td>1.683866e+09</td>\n",
       "      <td></td>\n",
       "      <td>0</td>\n",
       "      <td>[-0.00916092749685049, -0.021061832085251808, ...</td>\n",
       "    </tr>\n",
       "    <tr>\n",
       "      <th>4</th>\n",
       "      <td>We're Giving You Up to 40% Off Sale Styles</td>\n",
       "      <td>Banana Republic &lt;bananarepublic@email.bananare...</td>\n",
       "      <td>1.683864e+09</td>\n",
       "      <td>\\r\\n\\r\\nWe're Giving You Up to 40% Off Sale St...</td>\n",
       "      <td>0</td>\n",
       "      <td>[-0.046990904957056046, -0.01633710041642189, ...</td>\n",
       "    </tr>\n",
       "  </tbody>\n",
       "</table>\n",
       "</div>"
      ],
      "text/plain": [
       "                                             Subject   \n",
       "0  VINEET, Remember To Purchase Your Getaway Star...  \\\n",
       "1      Spring Recital next Saturday May 20th at 5:00   \n",
       "2  [Class of 2028] Save the date - 7th Grade End ...   \n",
       "3  [Mantri Celestia] Special Notice: Power Shutdo...   \n",
       "4         We're Giving You Up to 40% Off Sale Styles   \n",
       "\n",
       "                                              Sender          Date   \n",
       "0  Hilton Grand Vacations <hgv@travel2.hiltongran...  1.683869e+09  \\\n",
       "1         Andrew Bushnell <fiddlersroof@outlook.com>  1.683868e+09   \n",
       "2               Tushar Gupta <m@mail1.veracross.com>  1.683867e+09   \n",
       "3  Mantri Celestia helpdesk <donotreply@apnacompl...  1.683866e+09   \n",
       "4  Banana Republic <bananarepublic@email.bananare...  1.683864e+09   \n",
       "\n",
       "                                                Body  Replied To   \n",
       "0  Your 3-Night Vacation Can Get You $100 Towards...           0  \\\n",
       "1                                                              0   \n",
       "2  Hello class of 2028 families, \\r\\nWe are plann...           0   \n",
       "3                                                              0   \n",
       "4  \\r\\n\\r\\nWe're Giving You Up to 40% Off Sale St...           0   \n",
       "\n",
       "                                           embedding  \n",
       "0  [-0.008335459977388382, -0.007523390464484692,...  \n",
       "1  [-0.03298372030258179, 0.0026079996023327112, ...  \n",
       "2  [-0.008779299445450306, -0.004117605742067099,...  \n",
       "3  [-0.00916092749685049, -0.021061832085251808, ...  \n",
       "4  [-0.046990904957056046, -0.01633710041642189, ...  "
      ]
     },
     "execution_count": 5,
     "metadata": {},
     "output_type": "execute_result"
    }
   ],
   "source": [
    "df['embedding'] = df.embedding.apply(np.array)\n",
    "\n",
    "df.head()"
   ]
  },
  {
   "cell_type": "code",
   "execution_count": 13,
   "metadata": {},
   "outputs": [],
   "source": [
    "X_train, X_test, y_train, y_test = train_test_split(list(df.embedding.values), df.RepliedTo.values, test_size=0.2, random_state=42)"
   ]
  },
  {
   "cell_type": "code",
   "execution_count": 17,
   "metadata": {},
   "outputs": [
    {
     "data": {
      "text/html": [
       "<style>#sk-container-id-2 {color: black;background-color: white;}#sk-container-id-2 pre{padding: 0;}#sk-container-id-2 div.sk-toggleable {background-color: white;}#sk-container-id-2 label.sk-toggleable__label {cursor: pointer;display: block;width: 100%;margin-bottom: 0;padding: 0.3em;box-sizing: border-box;text-align: center;}#sk-container-id-2 label.sk-toggleable__label-arrow:before {content: \"▸\";float: left;margin-right: 0.25em;color: #696969;}#sk-container-id-2 label.sk-toggleable__label-arrow:hover:before {color: black;}#sk-container-id-2 div.sk-estimator:hover label.sk-toggleable__label-arrow:before {color: black;}#sk-container-id-2 div.sk-toggleable__content {max-height: 0;max-width: 0;overflow: hidden;text-align: left;background-color: #f0f8ff;}#sk-container-id-2 div.sk-toggleable__content pre {margin: 0.2em;color: black;border-radius: 0.25em;background-color: #f0f8ff;}#sk-container-id-2 input.sk-toggleable__control:checked~div.sk-toggleable__content {max-height: 200px;max-width: 100%;overflow: auto;}#sk-container-id-2 input.sk-toggleable__control:checked~label.sk-toggleable__label-arrow:before {content: \"▾\";}#sk-container-id-2 div.sk-estimator input.sk-toggleable__control:checked~label.sk-toggleable__label {background-color: #d4ebff;}#sk-container-id-2 div.sk-label input.sk-toggleable__control:checked~label.sk-toggleable__label {background-color: #d4ebff;}#sk-container-id-2 input.sk-hidden--visually {border: 0;clip: rect(1px 1px 1px 1px);clip: rect(1px, 1px, 1px, 1px);height: 1px;margin: -1px;overflow: hidden;padding: 0;position: absolute;width: 1px;}#sk-container-id-2 div.sk-estimator {font-family: monospace;background-color: #f0f8ff;border: 1px dotted black;border-radius: 0.25em;box-sizing: border-box;margin-bottom: 0.5em;}#sk-container-id-2 div.sk-estimator:hover {background-color: #d4ebff;}#sk-container-id-2 div.sk-parallel-item::after {content: \"\";width: 100%;border-bottom: 1px solid gray;flex-grow: 1;}#sk-container-id-2 div.sk-label:hover label.sk-toggleable__label {background-color: #d4ebff;}#sk-container-id-2 div.sk-serial::before {content: \"\";position: absolute;border-left: 1px solid gray;box-sizing: border-box;top: 0;bottom: 0;left: 50%;z-index: 0;}#sk-container-id-2 div.sk-serial {display: flex;flex-direction: column;align-items: center;background-color: white;padding-right: 0.2em;padding-left: 0.2em;position: relative;}#sk-container-id-2 div.sk-item {position: relative;z-index: 1;}#sk-container-id-2 div.sk-parallel {display: flex;align-items: stretch;justify-content: center;background-color: white;position: relative;}#sk-container-id-2 div.sk-item::before, #sk-container-id-2 div.sk-parallel-item::before {content: \"\";position: absolute;border-left: 1px solid gray;box-sizing: border-box;top: 0;bottom: 0;left: 50%;z-index: -1;}#sk-container-id-2 div.sk-parallel-item {display: flex;flex-direction: column;z-index: 1;position: relative;background-color: white;}#sk-container-id-2 div.sk-parallel-item:first-child::after {align-self: flex-end;width: 50%;}#sk-container-id-2 div.sk-parallel-item:last-child::after {align-self: flex-start;width: 50%;}#sk-container-id-2 div.sk-parallel-item:only-child::after {width: 0;}#sk-container-id-2 div.sk-dashed-wrapped {border: 1px dashed gray;margin: 0 0.4em 0.5em 0.4em;box-sizing: border-box;padding-bottom: 0.4em;background-color: white;}#sk-container-id-2 div.sk-label label {font-family: monospace;font-weight: bold;display: inline-block;line-height: 1.2em;}#sk-container-id-2 div.sk-label-container {text-align: center;}#sk-container-id-2 div.sk-container {/* jupyter's `normalize.less` sets `[hidden] { display: none; }` but bootstrap.min.css set `[hidden] { display: none !important; }` so we also need the `!important` here to be able to override the default hidden behavior on the sphinx rendered scikit-learn.org. See: https://github.com/scikit-learn/scikit-learn/issues/21755 */display: inline-block !important;position: relative;}#sk-container-id-2 div.sk-text-repr-fallback {display: none;}</style><div id=\"sk-container-id-2\" class=\"sk-top-container\"><div class=\"sk-text-repr-fallback\"><pre>KNeighborsClassifier()</pre><b>In a Jupyter environment, please rerun this cell to show the HTML representation or trust the notebook. <br />On GitHub, the HTML representation is unable to render, please try loading this page with nbviewer.org.</b></div><div class=\"sk-container\" hidden><div class=\"sk-item\"><div class=\"sk-estimator sk-toggleable\"><input class=\"sk-toggleable__control sk-hidden--visually\" id=\"sk-estimator-id-2\" type=\"checkbox\" checked><label for=\"sk-estimator-id-2\" class=\"sk-toggleable__label sk-toggleable__label-arrow\">KNeighborsClassifier</label><div class=\"sk-toggleable__content\"><pre>KNeighborsClassifier()</pre></div></div></div></div></div>"
      ],
      "text/plain": [
       "KNeighborsClassifier()"
      ]
     },
     "execution_count": 17,
     "metadata": {},
     "output_type": "execute_result"
    }
   ],
   "source": [
    "regressor = LogisticRegression(max_iter=1000)\n",
    "regressor.fit(X_train, y_train)\n",
    "\n",
    "rfr = RandomForestClassifier()\n",
    "rfr.fit(X_train, y_train)\n",
    "\n",
    "knn = KNeighborsClassifier()\n",
    "knn.fit(X_train, y_train)"
   ]
  },
  {
   "cell_type": "code",
   "execution_count": 18,
   "metadata": {},
   "outputs": [
    {
     "name": "stdout",
     "output_type": "stream",
     "text": [
      "KNN Accuracy: 0.9377162629757786\n",
      "KNN F1: 0.9423076923076924\n",
      "Random Forest Accuracy: 0.9619377162629758\n",
      "Random Forest F1: 0.9634551495016612\n",
      "Logistic Regression Accuracy: 0.916955017301038\n",
      "Logistic Regression F1: 0.9225806451612903\n"
     ]
    }
   ],
   "source": [
    "knn_preds = knn.predict(X_test)\n",
    "rfr_preds = rfr.predict(X_test)\n",
    "regressor_preds = regressor.predict(X_test)\n",
    "\n",
    "print(f'KNN Accuracy: {accuracy_score(y_test, knn_preds)}')\n",
    "print(f'KNN F1: {f1_score(y_test, knn_preds)}')\n",
    "\n",
    "print(f'Random Forest Accuracy: {accuracy_score(y_test, rfr_preds)}')\n",
    "print(f'Random Forest F1: {f1_score(y_test, rfr_preds)}')\n",
    "\n",
    "print(f'Logistic Regression Accuracy: {accuracy_score(y_test, regressor_preds)}')\n",
    "print(f'Logistic Regression F1: {f1_score(y_test, regressor_preds)}')"
   ]
  }
 ],
 "metadata": {
  "kernelspec": {
   "display_name": "Python 3",
   "language": "python",
   "name": "python3"
  },
  "language_info": {
   "codemirror_mode": {
    "name": "ipython",
    "version": 3
   },
   "file_extension": ".py",
   "mimetype": "text/x-python",
   "name": "python",
   "nbconvert_exporter": "python",
   "pygments_lexer": "ipython3",
   "version": "3.11.3"
  },
  "orig_nbformat": 4
 },
 "nbformat": 4,
 "nbformat_minor": 2
}
