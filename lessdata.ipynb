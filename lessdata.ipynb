{
 "cells": [
  {
   "cell_type": "code",
   "execution_count": 34,
   "metadata": {},
   "outputs": [],
   "source": [
    "import pandas as pd\n",
    "import tensorflow as tf\n",
    "from tensorflow import keras\n",
    "from tensorflow.keras import layers\n",
    "from tensorflow.keras.layers import TextVectorization\n",
    "from tensorflow.keras.layers.experimental.preprocessing import TextVectorization"
   ]
  },
  {
   "cell_type": "code",
   "execution_count": 35,
   "metadata": {},
   "outputs": [
    {
     "data": {
      "text/html": [
       "<div>\n",
       "<style scoped>\n",
       "    .dataframe tbody tr th:only-of-type {\n",
       "        vertical-align: middle;\n",
       "    }\n",
       "\n",
       "    .dataframe tbody tr th {\n",
       "        vertical-align: top;\n",
       "    }\n",
       "\n",
       "    .dataframe thead th {\n",
       "        text-align: right;\n",
       "    }\n",
       "</style>\n",
       "<table border=\"1\" class=\"dataframe\">\n",
       "  <thead>\n",
       "    <tr style=\"text-align: right;\">\n",
       "      <th></th>\n",
       "      <th>Data</th>\n",
       "      <th>Replied To</th>\n",
       "    </tr>\n",
       "  </thead>\n",
       "  <tbody>\n",
       "    <tr>\n",
       "      <th>0</th>\n",
       "      <td>Sender: MaryJoy Galvez &lt;donotreply@appfolio.co...</td>\n",
       "      <td>0</td>\n",
       "    </tr>\n",
       "    <tr>\n",
       "      <th>1</th>\n",
       "      <td>Sender: Yieldstreet &lt;investments@yieldstreet.c...</td>\n",
       "      <td>0</td>\n",
       "    </tr>\n",
       "    <tr>\n",
       "      <th>2</th>\n",
       "      <td>Sender: Amy Lewis &lt;amylewis@parkerremick.com&gt;\\...</td>\n",
       "      <td>1</td>\n",
       "    </tr>\n",
       "    <tr>\n",
       "      <th>3</th>\n",
       "      <td>Sender: Yieldstreet &lt;investments@yieldstreet.c...</td>\n",
       "      <td>0</td>\n",
       "    </tr>\n",
       "    <tr>\n",
       "      <th>4</th>\n",
       "      <td>Sender: \"FLEE the Ultimate VR Arena &amp; Escape G...</td>\n",
       "      <td>0</td>\n",
       "    </tr>\n",
       "  </tbody>\n",
       "</table>\n",
       "</div>"
      ],
      "text/plain": [
       "                                                Data  Replied To\n",
       "0  Sender: MaryJoy Galvez <donotreply@appfolio.co...           0\n",
       "1  Sender: Yieldstreet <investments@yieldstreet.c...           0\n",
       "2  Sender: Amy Lewis <amylewis@parkerremick.com>\\...           1\n",
       "3  Sender: Yieldstreet <investments@yieldstreet.c...           0\n",
       "4  Sender: \"FLEE the Ultimate VR Arena & Escape G...           0"
      ]
     },
     "execution_count": 35,
     "metadata": {},
     "output_type": "execute_result"
    }
   ],
   "source": [
    "df = pd.read_parquet('data2.parquet')\n",
    "df.head()"
   ]
  },
  {
   "cell_type": "code",
   "execution_count": 36,
   "metadata": {},
   "outputs": [
    {
     "name": "stdout",
     "output_type": "stream",
     "text": [
      "Replied To\n",
      "0    21232\n",
      "1     4268\n",
      "Name: count, dtype: int64\n"
     ]
    }
   ],
   "source": [
    "print(df.value_counts('Replied To'))"
   ]
  },
  {
   "cell_type": "code",
   "execution_count": 37,
   "metadata": {},
   "outputs": [
    {
     "data": {
      "text/plain": [
       "Replied To\n",
       "0    4268\n",
       "1    4268\n",
       "Name: count, dtype: int64"
      ]
     },
     "execution_count": 37,
     "metadata": {},
     "output_type": "execute_result"
    }
   ],
   "source": [
    "#equalize the class imbalance\n",
    "df = df.groupby('Replied To').head(4268)\n",
    "df.value_counts('Replied To')"
   ]
  },
  {
   "cell_type": "code",
   "execution_count": 46,
   "metadata": {},
   "outputs": [
    {
     "name": "stdout",
     "output_type": "stream",
     "text": [
      "tf.Tensor(\n",
      "[[   4   65  182 ...    0    0    0]\n",
      " [   4   38   14 ...    0    0    0]\n",
      " [   4 8677    3 ...    0    0    0]\n",
      " ...\n",
      " [   4  411  465 ...    0    0    0]\n",
      " [   4 1488 1468 ...    0    0    0]\n",
      " [   4 6748 9345 ...    0    0    0]], shape=(64, 200), dtype=int32)\n",
      "tf.Tensor(\n",
      "[0 0 0 0 0 0 1 1 0 0 0 0 1 0 0 0 0 0 0 0 0 0 1 0 0 0 0 0 0 0 1 1 0 0 0 0 0\n",
      " 0 0 0 0 1 0 0 0 1 0 0 0 0 0 0 0 0 0 0 0 1 0 0 0 0 0 0], shape=(64,), dtype=int64)\n"
     ]
    }
   ],
   "source": [
    "x = df['Data']\n",
    "y = df['Replied To']\n",
    "\n",
    "vectorizer = TextVectorization(max_tokens=20000, output_sequence_length=200, output_mode='int')\n",
    "vectorizer.adapt(x)\n",
    "\n",
    "x = vectorizer(x)\n",
    "x = keras.preprocessing.sequence.pad_sequences(x, padding='post')\n",
    "\n",
    "dataset = tf.data.Dataset.from_tensor_slices((x, y))\n",
    "dataset = dataset.shuffle(buffer_size=1024).batch(64).prefetch(tf.data.AUTOTUNE).cache()\n",
    "\n",
    "#print some of the data\n",
    "for x, y in dataset.take(1):\n",
    "\tprint(x)\n",
    "\tprint(y)"
   ]
  },
  {
   "cell_type": "code",
   "execution_count": 39,
   "metadata": {},
   "outputs": [
    {
     "name": "stdout",
     "output_type": "stream",
     "text": [
      "Model: \"sequential_8\"\n",
      "_________________________________________________________________\n",
      " Layer (type)                Output Shape              Param #   \n",
      "=================================================================\n",
      " embedding_8 (Embedding)     (None, None, 128)         2560000   \n",
      "                                                                 \n",
      " lstm_8 (LSTM)               (None, 128)               131584    \n",
      "                                                                 \n",
      " dense_15 (Dense)            (None, 1)                 129       \n",
      "                                                                 \n",
      "=================================================================\n",
      "Total params: 2,691,713\n",
      "Trainable params: 2,691,713\n",
      "Non-trainable params: 0\n",
      "_________________________________________________________________\n"
     ]
    }
   ],
   "source": [
    "# Create the model\n",
    "model = keras.Sequential([\n",
    "    layers.Embedding(20000, 128, mask_zero=True),\n",
    "    layers.LSTM(128, dropout=0.2, recurrent_dropout=0.2),\n",
    "    layers.Dense(1, activation='sigmoid')\n",
    "])\n",
    "\n",
    "# Compile the model\n",
    "model.compile(loss='binary_crossentropy', optimizer='adam', metrics=['accuracy'])\n",
    "\n",
    "# Print the model summary\n",
    "model.summary()"
   ]
  },
  {
   "cell_type": "code",
   "execution_count": 41,
   "metadata": {},
   "outputs": [
    {
     "name": "stdout",
     "output_type": "stream",
     "text": [
      "Epoch 1/10\n",
      "134/134 [==============================] - 71s 529ms/step - loss: 0.0825 - accuracy: 0.9740 - lr: 0.0010\n",
      "Epoch 2/10\n",
      "134/134 [==============================] - 71s 527ms/step - loss: 0.1296 - accuracy: 0.9565 - lr: 0.0010\n",
      "Epoch 3/10\n",
      "134/134 [==============================] - 72s 536ms/step - loss: 0.1122 - accuracy: 0.9639 - lr: 0.0010\n",
      "Epoch 4/10\n",
      "134/134 [==============================] - ETA: 0s - loss: 0.1023 - accuracy: 0.9679\n",
      "Epoch 4: ReduceLROnPlateau reducing learning rate to 0.0005000000237487257.\n",
      "134/134 [==============================] - 72s 535ms/step - loss: 0.1023 - accuracy: 0.9679 - lr: 0.0010\n",
      "Epoch 5/10\n",
      "134/134 [==============================] - 73s 542ms/step - loss: 0.0503 - accuracy: 0.9888 - lr: 5.0000e-04\n",
      "Epoch 6/10\n",
      "134/134 [==============================] - 73s 545ms/step - loss: 0.0462 - accuracy: 0.9879 - lr: 5.0000e-04\n",
      "Epoch 7/10\n",
      "134/134 [==============================] - 74s 553ms/step - loss: 0.0362 - accuracy: 0.9910 - lr: 5.0000e-04\n",
      "Epoch 8/10\n",
      "134/134 [==============================] - 74s 552ms/step - loss: 0.0412 - accuracy: 0.9891 - lr: 5.0000e-04\n",
      "Epoch 9/10\n",
      "134/134 [==============================] - 75s 561ms/step - loss: 0.0342 - accuracy: 0.9912 - lr: 5.0000e-04\n",
      "Epoch 10/10\n",
      "134/134 [==============================] - 74s 555ms/step - loss: 0.0284 - accuracy: 0.9931 - lr: 5.0000e-04\n"
     ]
    },
    {
     "data": {
      "text/plain": [
       "<keras.callbacks.History at 0x1fe9cb8df50>"
      ]
     },
     "execution_count": 41,
     "metadata": {},
     "output_type": "execute_result"
    }
   ],
   "source": [
    "#create an 80/20 split for training and validation, taking into account that the total data size is 8536    \n",
    "train_size = int(8536 * 0.8)\n",
    "val_size = int(8536 * 0.2)\n",
    "\n",
    "train = dataset.take(train_size)\n",
    "val = dataset.skip(train_size)\n",
    "\n",
    "model.fit(\n",
    "    train,\n",
    "    validation_data=val,\n",
    "    epochs=10,\n",
    "    callbacks=[keras.callbacks.ReduceLROnPlateau(monitor='accuracy', patience=3, verbose=1, factor=.5)]\n",
    ")"
   ]
  }
 ],
 "metadata": {
  "kernelspec": {
   "display_name": "Python 3",
   "language": "python",
   "name": "python3"
  },
  "language_info": {
   "codemirror_mode": {
    "name": "ipython",
    "version": 3
   },
   "file_extension": ".py",
   "mimetype": "text/x-python",
   "name": "python",
   "nbconvert_exporter": "python",
   "pygments_lexer": "ipython3",
   "version": "3.11.3"
  },
  "orig_nbformat": 4
 },
 "nbformat": 4,
 "nbformat_minor": 2
}
